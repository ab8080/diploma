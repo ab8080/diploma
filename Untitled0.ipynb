{
 "cells": [
  {
   "cell_type": "code",
   "execution_count": 1,
   "id": "2f32efa5",
   "metadata": {
    "_cell_guid": "b1076dfc-b9ad-4769-8c92-a6c4dae69d19",
    "_uuid": "8f2839f25d086af736a60e9eeb907d3b93b6e0e5",
    "execution": {
     "iopub.execute_input": "2024-04-17T13:01:47.883760Z",
     "iopub.status.busy": "2024-04-17T13:01:47.883320Z",
     "iopub.status.idle": "2024-04-17T13:01:51.327478Z",
     "shell.execute_reply": "2024-04-17T13:01:51.326700Z"
    },
    "papermill": {
     "duration": 3.452893,
     "end_time": "2024-04-17T13:01:51.329830",
     "exception": false,
     "start_time": "2024-04-17T13:01:47.876937",
     "status": "completed"
    },
    "tags": []
   },
   "outputs": [],
   "source": [
    "import torch\n",
    "from torch import nn\n",
    "from torch.utils.data import Dataset\n",
    "import os\n",
    "from PIL import Image"
   ]
  },
  {
   "cell_type": "code",
   "execution_count": 2,
   "id": "6b0a05ed",
   "metadata": {
    "execution": {
     "iopub.execute_input": "2024-04-17T13:01:51.340710Z",
     "iopub.status.busy": "2024-04-17T13:01:51.340327Z",
     "iopub.status.idle": "2024-04-17T13:01:51.349475Z",
     "shell.execute_reply": "2024-04-17T13:01:51.348643Z"
    },
    "papermill": {
     "duration": 0.016402,
     "end_time": "2024-04-17T13:01:51.351372",
     "exception": false,
     "start_time": "2024-04-17T13:01:51.334970",
     "status": "completed"
    },
    "tags": []
   },
   "outputs": [],
   "source": [
    "def process_video_frames(frames, model, confidence_threshold=0.5):\n",
    "    \"\"\"\n",
    "    Обработка кадров видео для детекции bounding boxes.\n",
    "    Если уверенность модели ниже заданного порога, используется предыдущий bounding box.\n",
    "\n",
    "    Параметры:\n",
    "    frames (list): Список кадров видео.\n",
    "    model (YOLOv3): Модель для предсказания bounding boxes.\n",
    "    confidence_threshold (float): Порог уверенности для использования bounding box.\n",
    "\n",
    "    Возвращает:\n",
    "    dict: Словарь с результатами для каждого кадра.\n",
    "    \"\"\"\n",
    "    last_boxes = {}  # Словарь для хранения последних уверенных bounding boxes по видео\n",
    "    results = {}  # Результаты для каждого кадра\n",
    "\n",
    "    for frame in frames:\n",
    "        video_id, frame_number = parse_frame_id(frame['id'])  # Разбор ID кадра на идентификатор видео и номер кадра\n",
    "        prediction = model(frame['image'])  # Предсказание модели для текущего кадра\n",
    "        confidence = prediction['confidence']  # Получение уверенности предсказания\n",
    "\n",
    "        if confidence < confidence_threshold:\n",
    "            # Использование bounding box из предыдущего кадра, если он есть\n",
    "            if video_id in last_boxes:\n",
    "                prediction['bbox'] = last_boxes[video_id]\n",
    "        else:\n",
    "            # Обновление последнего уверенного bounding box для текущего видео\n",
    "            last_boxes[video_id] = prediction['bbox']\n",
    "\n",
    "        results[frame['id']] = prediction  # Сохранение результата для текущего кадра\n",
    "\n",
    "    return results\n",
    "\n",
    "def parse_frame_id(frame_id):\n",
    "    \"\"\"\n",
    "    Разбор ID кадра на идентификатор видео и номер кадра.\n",
    "\n",
    "    Параметры:\n",
    "    frame_id (str): ID кадра.\n",
    "\n",
    "    Возвращает:\n",
    "    tuple: Идентификатор видео и номер кадра.\n",
    "    \"\"\"\n",
    "    parts = frame_id.split('_')\n",
    "    video_id = '_'.join(parts[:3])\n",
    "    frame_number = int(parts[3].split('.')[0])\n",
    "    return video_id, frame_number\n"
   ]
  },
  {
   "cell_type": "code",
   "execution_count": 3,
   "id": "e833ae4a",
   "metadata": {
    "execution": {
     "iopub.execute_input": "2024-04-17T13:01:51.361585Z",
     "iopub.status.busy": "2024-04-17T13:01:51.360929Z",
     "iopub.status.idle": "2024-04-17T13:01:51.367594Z",
     "shell.execute_reply": "2024-04-17T13:01:51.366772Z"
    },
    "papermill": {
     "duration": 0.01369,
     "end_time": "2024-04-17T13:01:51.369452",
     "exception": false,
     "start_time": "2024-04-17T13:01:51.355762",
     "status": "completed"
    },
    "tags": []
   },
   "outputs": [],
   "source": [
    "class CustomLoss(nn.Module):\n",
    "    def __init__(self):\n",
    "        super(CustomLoss, self).__init__()\n",
    "        self.mse_loss = nn.MSELoss(reduction='sum')  # Для координат\n",
    "        self.bce_loss = nn.BCEWithLogitsLoss(reduction='sum')  # Для уверенности\n",
    "\n",
    "    def forward(self, predictions, targets):\n",
    "        # Предсказанные уверенности и координаты\n",
    "        pred_confidences = predictions[:, 0]\n",
    "        pred_boxes = predictions[:, 1:]\n",
    "\n",
    "        # Целевые уверенности (все 1, так как все целевые боксы содержат объекты)\n",
    "        target_confidences = torch.ones_like(pred_confidences)\n",
    "\n",
    "        # Целевые координаты\n",
    "        target_boxes = targets\n",
    "\n",
    "        # Расчет потерь\n",
    "        confidence_loss = self.bce_loss(pred_confidences, target_confidences)\n",
    "        coordinate_loss = self.mse_loss(pred_boxes, target_boxes)\n",
    "\n",
    "        return confidence_loss + coordinate_loss\n"
   ]
  },
  {
   "cell_type": "code",
   "execution_count": 4,
   "id": "6ffc13d5",
   "metadata": {
    "execution": {
     "iopub.execute_input": "2024-04-17T13:01:51.379778Z",
     "iopub.status.busy": "2024-04-17T13:01:51.379218Z",
     "iopub.status.idle": "2024-04-17T13:01:51.400608Z",
     "shell.execute_reply": "2024-04-17T13:01:51.399804Z"
    },
    "papermill": {
     "duration": 0.028508,
     "end_time": "2024-04-17T13:01:51.402350",
     "exception": false,
     "start_time": "2024-04-17T13:01:51.373842",
     "status": "completed"
    },
    "tags": []
   },
   "outputs": [],
   "source": [
    "# Определение Symmetrical ReLU (SymReLU)\n",
    "class SymReLU(nn.Module):\n",
    "    def __init__(self, alpha=1.0):\n",
    "        super(SymReLU, self).__init__()\n",
    "        self.alpha = alpha\n",
    "    \n",
    "    def forward(self, x):\n",
    "        return torch.max(x, torch.zeros_like(x)) - self.alpha * torch.min(x, torch.zeros_like(x))\n",
    "\n",
    "# Определение слоя свертки с SymReLU\n",
    "class ConvSymRelu(nn.Module):\n",
    "    def __init__(self, in_channels, out_channels, kernel_size, stride, padding, groups=1):\n",
    "        super(ConvSymRelu, self).__init__()\n",
    "        self.conv = nn.Conv2d(in_channels, out_channels, kernel_size, stride, padding, groups=groups, bias=False)\n",
    "        self.symrelu = SymReLU(alpha=1.0)\n",
    "    \n",
    "    def forward(self, x):\n",
    "        return self.symrelu(self.conv(x))\n",
    "\n",
    "# Создание модели с новой архитектурой\n",
    "class NewYOLOv3(nn.Module):\n",
    "    def __init__(self, num_classes):\n",
    "        super(NewYOLOv3, self).__init__()\n",
    "        self.conv0_yolo = ConvSymRelu(3, 12, (5, 5), (1, 1), (2, 2))\n",
    "        self.maxpool0 = nn.MaxPool2d((2, 2), stride=(2, 2))\n",
    "        self.conv1 = ConvSymRelu(12, 16, (5, 5), (2, 2), (1, 1))\n",
    "        self.conv2 = ConvSymRelu(16, 16, (3, 3), (2, 2), (1, 1))\n",
    "        self.conv3 = ConvSymRelu(16, 16, (3, 3), (1, 1), (1, 1))\n",
    "        self.pool4 = nn.MaxPool2d((2, 2), stride=(2, 2))\n",
    "        self.conv5 = ConvSymRelu(16, 24, (3, 3), (1, 1), (1, 1))\n",
    "        self.conv6 = ConvSymRelu(24, 48, (3, 3), (2, 2), (1, 1))\n",
    "        self.conv7 = ConvSymRelu(48, 48, (3, 3), (1, 1), (1, 1))\n",
    "        self.conv8 = ConvSymRelu(48, 48, (3, 3), (1, 1), (1, 1))\n",
    "        self.conv9 = ConvSymRelu(48, 48, (3, 3), (1, 1), (1, 1))\n",
    "        self.conv11 = ConvSymRelu(48, 64, (3, 3), (1, 1), (1, 1))\n",
    "        self.conv13 = ConvSymRelu(64, 64, (7, 7), (7, 7), (0, 0))  # Уменьшаем до 1x1\n",
    "        self.conv14 = ConvSymRelu(64, 4, (1, 1), (1, 1), (0, 0))  # Меняем количество каналов, сохраняем 1x1\n",
    "        self.conv14_1 = ConvSymRelu(4, 4, (3, 3), (1, 1), (1, 1))\n",
    "        self.conv14_2 = ConvSymRelu(4, 4, (3, 3), (1, 1), (1, 1))\n",
    "        self.upsample0 = nn.Upsample(scale_factor=(1, 1), mode='nearest')\n",
    "        self.conv15 = ConvSymRelu(4, 96, (3, 3), (1, 1), (1, 1))\n",
    "        self.prefinal = ConvSymRelu(96, 256, (1, 1), (1, 1), (0, 0))\n",
    "        self.final = nn.Conv2d(256, 5, (1, 1))\n",
    "\n",
    "\n",
    "    def forward(self, x):\n",
    "        x = self.conv0_yolo(x)\n",
    "        x = self.maxpool0(x)\n",
    "        x = self.conv1(x)\n",
    "        x = self.conv2(x)\n",
    "        x = self.conv3(x)\n",
    "        x = self.pool4(x)\n",
    "        x = self.conv5(x)\n",
    "        x = self.conv6(x)\n",
    "        x = self.conv7(x)\n",
    "        x = self.conv8(x)\n",
    "        x = self.conv9(x)\n",
    "        x = self.conv11(x)\n",
    "        x = self.conv13(x)\n",
    "        x = self.conv14(x)\n",
    "        x = self.conv14_1(x)\n",
    "        x = self.conv14_2(x)\n",
    "        x = self.upsample0(x)\n",
    "        x = self.conv15(x)\n",
    "        x = self.prefinal(x)\n",
    "        x = self.final(x)\n",
    "        x = x.flatten(start_dim=1) # добавлен flatten\n",
    "        return x"
   ]
  },
  {
   "cell_type": "code",
   "execution_count": 5,
   "id": "e576d79b",
   "metadata": {
    "execution": {
     "iopub.execute_input": "2024-04-17T13:01:51.412238Z",
     "iopub.status.busy": "2024-04-17T13:01:51.411961Z",
     "iopub.status.idle": "2024-04-17T13:01:51.421030Z",
     "shell.execute_reply": "2024-04-17T13:01:51.420233Z"
    },
    "papermill": {
     "duration": 0.016073,
     "end_time": "2024-04-17T13:01:51.422835",
     "exception": false,
     "start_time": "2024-04-17T13:01:51.406762",
     "status": "completed"
    },
    "tags": []
   },
   "outputs": [],
   "source": [
    "class YourDataset(Dataset):\n",
    "    def __init__(self, img_dir, ann_dir, transform=None):\n",
    "        self.img_dir = img_dir\n",
    "        self.ann_dir = ann_dir\n",
    "        self.transform = transform\n",
    "\n",
    "        # Получение списка имен файлов изображений\n",
    "        self.img_names = [img_name for img_name in os.listdir(img_dir) if img_name.endswith('.jpg')]\n",
    "\n",
    "    def __len__(self):\n",
    "        return len(self.img_names)\n",
    "\n",
    "    def __getitem__(self, idx):\n",
    "        img_name = self.img_names[idx]\n",
    "        img_path = os.path.join(self.img_dir, img_name)\n",
    "        ann_path = os.path.join(self.ann_dir, img_name.replace('.jpg', '.txt'))\n",
    "\n",
    "        # Загрузка изображения\n",
    "        image = Image.open(img_path).convert('RGB')\n",
    "\n",
    "        # Загрузка аннотаций\n",
    "        annotations = self.load_annotations(ann_path)\n",
    "\n",
    "        if self.transform:\n",
    "            image = self.transform(image)\n",
    "\n",
    "        return image, annotations\n",
    "\n",
    "    @staticmethod\n",
    "    def load_annotations(ann_path):\n",
    "        annotations = []\n",
    "        with open(ann_path, 'r') as file:\n",
    "            for line in file:\n",
    "                _, x_center, y_center, width, height = map(float, line.split())\n",
    "                annotations.append([x_center, y_center, width, height])\n",
    "        return torch.tensor(annotations).squeeze() # оно по дефолту делает тензор размера [1, 4] а надо [4] потому что у кажного объекта ровно 1 аннотация"
   ]
  },
  {
   "cell_type": "code",
   "execution_count": 6,
   "id": "4b5af3cf",
   "metadata": {
    "execution": {
     "iopub.execute_input": "2024-04-17T13:01:51.432899Z",
     "iopub.status.busy": "2024-04-17T13:01:51.432615Z",
     "iopub.status.idle": "2024-04-17T13:01:54.072671Z",
     "shell.execute_reply": "2024-04-17T13:01:54.071920Z"
    },
    "papermill": {
     "duration": 2.647812,
     "end_time": "2024-04-17T13:01:54.075125",
     "exception": false,
     "start_time": "2024-04-17T13:01:51.427313",
     "status": "completed"
    },
    "tags": []
   },
   "outputs": [],
   "source": [
    "from torchvision import transforms\n",
    "from torch.utils.data import DataLoader\n",
    "import torch.nn.functional as F\n"
   ]
  },
  {
   "cell_type": "code",
   "execution_count": 7,
   "id": "4447e6d5",
   "metadata": {
    "execution": {
     "iopub.execute_input": "2024-04-17T13:01:54.085969Z",
     "iopub.status.busy": "2024-04-17T13:01:54.085428Z",
     "iopub.status.idle": "2024-04-17T13:01:54.090106Z",
     "shell.execute_reply": "2024-04-17T13:01:54.089269Z"
    },
    "papermill": {
     "duration": 0.012034,
     "end_time": "2024-04-17T13:01:54.092020",
     "exception": false,
     "start_time": "2024-04-17T13:01:54.079986",
     "status": "completed"
    },
    "tags": []
   },
   "outputs": [],
   "source": [
    "\n",
    "# Теперь пути к данным должны указывать на распакованные каталоги\n",
    "img_dir = '/kaggle/input/brikerdataset/dataset0904/train_images'  # Пример пути к изображениям для обучения\n",
    "ann_dir = '/kaggle/input/brikerdataset/dataset0904/train_annotations'  # Пример пути к аннотациям для обучения\n",
    "\n",
    "test_img_dir = '/kaggle/input/brikerdataset/dataset0904/test_images'  # Пример пути к изображениям для тестирования\n",
    "test_ann_dir = '/kaggle/input/brikerdataset/dataset0904/test_annotations'  # Пример пути к аннотациям для тестирования\n"
   ]
  },
  {
   "cell_type": "code",
   "execution_count": 8,
   "id": "63c2806f",
   "metadata": {
    "execution": {
     "iopub.execute_input": "2024-04-17T13:01:54.102141Z",
     "iopub.status.busy": "2024-04-17T13:01:54.101888Z",
     "iopub.status.idle": "2024-04-17T13:01:55.678591Z",
     "shell.execute_reply": "2024-04-17T13:01:55.677453Z"
    },
    "papermill": {
     "duration": 1.584492,
     "end_time": "2024-04-17T13:01:55.681023",
     "exception": false,
     "start_time": "2024-04-17T13:01:54.096531",
     "status": "completed"
    },
    "tags": []
   },
   "outputs": [
    {
     "name": "stdout",
     "output_type": "stream",
     "text": [
      "alb_id_80_000001.jpg\r\n",
      "alb_id_80_000007.jpg\r\n",
      "alb_id_80_000013.jpg\r\n",
      "alb_id_80_000019.jpg\r\n",
      "alb_id_80_000025.jpg\r\n",
      "alb_id_80_000031.jpg\r\n",
      "alb_id_80_000037.jpg\r\n",
      "alb_id_80_000043.jpg\r\n",
      "alb_id_80_000049.jpg\r\n",
      "alb_id_80_000055.jpg\r\n",
      "ls: write error: Broken pipe\r\n"
     ]
    }
   ],
   "source": [
    "!ls '/kaggle/input/brikerdataset/dataset0904/test_images' | head -n 10"
   ]
  },
  {
   "cell_type": "code",
   "execution_count": 9,
   "id": "077dc406",
   "metadata": {
    "execution": {
     "iopub.execute_input": "2024-04-17T13:01:55.693504Z",
     "iopub.status.busy": "2024-04-17T13:01:55.692871Z",
     "iopub.status.idle": "2024-04-17T13:01:57.631207Z",
     "shell.execute_reply": "2024-04-17T13:01:57.630370Z"
    },
    "papermill": {
     "duration": 1.94712,
     "end_time": "2024-04-17T13:01:57.633494",
     "exception": false,
     "start_time": "2024-04-17T13:01:55.686374",
     "status": "completed"
    },
    "tags": []
   },
   "outputs": [],
   "source": [
    "# Создание экземпляра новой модели\n",
    "model = NewYOLOv3(num_classes=1)  # Обратите внимание на количество классов\n",
    "\n",
    "# Проверка доступности CUDA\n",
    "if torch.cuda.is_available():\n",
    "    model = model.cuda()\n",
    "\n",
    "# Создание экземпляра функции потерь и оптимизатора\n",
    "criterion = CustomLoss()\n",
    "optimizer = torch.optim.Adam(model.parameters(), lr=0.001)\n",
    "\n",
    "# Подготовка датасетов, загрузчиков и трансформаций, если они нужны\n",
    "transform = transforms.Compose([\n",
    "    transforms.Resize((224, 224)),\n",
    "    transforms.ToTensor()\n",
    "])\n",
    "\n",
    "train_dataset = YourDataset(img_dir, ann_dir, transform=transform)\n",
    "test_dataset = YourDataset(test_img_dir, test_ann_dir, transform=transform)\n",
    "train_loader = DataLoader(train_dataset, batch_size=128, shuffle=True, num_workers=4, pin_memory=True)\n",
    "test_loader = DataLoader(test_dataset, batch_size=128, shuffle=False, num_workers=4, pin_memory=True)\n"
   ]
  },
  {
   "cell_type": "code",
   "execution_count": 10,
   "id": "e30c42ff",
   "metadata": {
    "execution": {
     "iopub.execute_input": "2024-04-17T13:01:57.645177Z",
     "iopub.status.busy": "2024-04-17T13:01:57.644527Z",
     "iopub.status.idle": "2024-04-17T13:01:57.648850Z",
     "shell.execute_reply": "2024-04-17T13:01:57.647956Z"
    },
    "papermill": {
     "duration": 0.012069,
     "end_time": "2024-04-17T13:01:57.650781",
     "exception": false,
     "start_time": "2024-04-17T13:01:57.638712",
     "status": "completed"
    },
    "tags": []
   },
   "outputs": [],
   "source": [
    "import torch\n",
    "import matplotlib.pyplot as plt\n",
    "from torchvision.ops import box_iou"
   ]
  },
  {
   "cell_type": "code",
   "execution_count": 11,
   "id": "1f40a073",
   "metadata": {
    "execution": {
     "iopub.execute_input": "2024-04-17T13:01:57.661593Z",
     "iopub.status.busy": "2024-04-17T13:01:57.661330Z",
     "iopub.status.idle": "2024-04-17T13:01:57.667334Z",
     "shell.execute_reply": "2024-04-17T13:01:57.666526Z"
    },
    "papermill": {
     "duration": 0.013534,
     "end_time": "2024-04-17T13:01:57.669239",
     "exception": false,
     "start_time": "2024-04-17T13:01:57.655705",
     "status": "completed"
    },
    "tags": []
   },
   "outputs": [],
   "source": [
    "def convert_yolo_to_corners(bboxes, img_width, img_height):\n",
    "    # Конвертация из формата YOLO (x_center, y_center, width, height) в формат координат углов (x_min, y_min, x_max, y_max)\n",
    "    converted_bboxes = []\n",
    "    for bbox in bboxes:\n",
    "        x_center, y_center, width, height = bbox[-4:]\n",
    "        x_min = (x_center - width / 2) * img_width\n",
    "        y_min = (y_center - height / 2) * img_height\n",
    "        x_max = (x_center + width / 2) * img_width\n",
    "        y_max = (y_center + height / 2) * img_height\n",
    "        converted_bboxes.append([x_min, y_min, x_max, y_max])\n",
    "    return torch.tensor(converted_bboxes, dtype=torch.float32)\n",
    "\n",
    "\n"
   ]
  },
  {
   "cell_type": "code",
   "execution_count": 12,
   "id": "71d8aa56",
   "metadata": {
    "execution": {
     "iopub.execute_input": "2024-04-17T13:01:57.680023Z",
     "iopub.status.busy": "2024-04-17T13:01:57.679781Z",
     "iopub.status.idle": "2024-04-17T13:01:57.684744Z",
     "shell.execute_reply": "2024-04-17T13:01:57.683926Z"
    },
    "papermill": {
     "duration": 0.012459,
     "end_time": "2024-04-17T13:01:57.686604",
     "exception": false,
     "start_time": "2024-04-17T13:01:57.674145",
     "status": "completed"
    },
    "tags": []
   },
   "outputs": [],
   "source": [
    "def get_confidence_and_bbox(outputs):\n",
    "    \"\"\"\n",
    "    Разделяет выходные данные модели на уверенности и координаты bounding boxes.\n",
    "\n",
    "    Параметры:\n",
    "        outputs (torch.Tensor): Тензор с выходными данными модели размерности [batch_size, 5],\n",
    "                                где каждая строка содержит [confidence, x, y, width, height].\n",
    "\n",
    "    Возвращает:\n",
    "        Tuple[torch.Tensor, torch.Tensor]:\n",
    "        - Вектор уверенностей размерности [batch_size],\n",
    "        - Матрицу координат bounding boxes размерности [batch_size, 4].\n",
    "    \"\"\"\n",
    "    # Предполагаем, что outputs уже находится на CPU, если необходимо\n",
    "    confidences = outputs[:, 0]  # Все строки, первый столбец\n",
    "    bboxes = outputs[:, 1:]  # Все строки, со второго столбца до последнего\n",
    "\n",
    "    return confidences, bboxes\n"
   ]
  },
  {
   "cell_type": "code",
   "execution_count": 13,
   "id": "930903c9",
   "metadata": {
    "execution": {
     "iopub.execute_input": "2024-04-17T13:01:57.697985Z",
     "iopub.status.busy": "2024-04-17T13:01:57.697718Z",
     "iopub.status.idle": "2024-04-17T19:18:22.293800Z",
     "shell.execute_reply": "2024-04-17T19:18:22.292725Z"
    },
    "papermill": {
     "duration": 22584.605411,
     "end_time": "2024-04-17T19:18:22.296959",
     "exception": false,
     "start_time": "2024-04-17T13:01:57.691548",
     "status": "completed"
    },
    "tags": []
   },
   "outputs": [
    {
     "name": "stdout",
     "output_type": "stream",
     "text": [
      "Epoch: 0\n",
      "Epoch 1, Train Loss: 82.27132179165444, Train IoU: 0.22714531309632174, Val Loss: 7.073021168058569, Val IoU: 0.3931292749264024\n",
      "Epoch: 1\n",
      "Epoch 2, Train Loss: 10.777489904771771, Train IoU: 0.4067094125594312, Val Loss: 5.854554983702573, Val IoU: 0.49613069607452914\n",
      "Epoch: 2\n",
      "Epoch 3, Train Loss: 7.871753804864939, Train IoU: 0.47467196397265493, Val Loss: 5.80212544853037, Val IoU: 0.5671473978595301\n",
      "Epoch: 3\n",
      "Epoch 4, Train Loss: 5.466218733648111, Train IoU: 0.5390173579342881, Val Loss: 4.442076124928215, Val IoU: 0.5569211027838967\n",
      "Epoch: 4\n",
      "Epoch 5, Train Loss: 4.57140660913367, Train IoU: 0.5645371013217502, Val Loss: 3.855373187498613, Val IoU: 0.5911840769377622\n",
      "Epoch: 5\n",
      "Epoch 6, Train Loss: 3.4294470168693723, Train IoU: 0.6105229363106844, Val Loss: 4.16730889136141, Val IoU: 0.5879269594495947\n",
      "Epoch: 6\n",
      "Epoch 7, Train Loss: 2.753346142015959, Train IoU: 0.6513274498501717, Val Loss: 4.698785638267344, Val IoU: 0.571527630768039\n",
      "Epoch: 7\n",
      "Epoch 8, Train Loss: 2.272323787386654, Train IoU: 0.6820457617790379, Val Loss: 3.827373829754916, Val IoU: 0.6296103007414124\n",
      "Epoch: 8\n",
      "Epoch 9, Train Loss: 1.9143443388199946, Train IoU: 0.7049659872264192, Val Loss: 3.6788767278194427, Val IoU: 0.6308558942242102\n",
      "Epoch: 9\n",
      "Epoch 10, Train Loss: 1.6244750019402532, Train IoU: 0.7249566346232654, Val Loss: 3.84774910049005, Val IoU: 0.6323109072717753\n",
      "Epoch: 10\n",
      "Epoch 11, Train Loss: 1.3523843363363144, Train IoU: 0.7443510963205706, Val Loss: 3.2624718357216227, Val IoU: 0.6472744819792834\n",
      "Epoch: 11\n",
      "Epoch 12, Train Loss: 1.2069230639097983, Train IoU: 0.7539799741485662, Val Loss: 3.2556667273694817, Val IoU: 0.6198463595726273\n"
     ]
    },
    {
     "data": {
      "image/png": "[encoded data removed]",
      "text/plain": [
       "<Figure size 1200x600 with 2 Axes>"
      ]
     },
     "metadata": {},
     "output_type": "display_data"
    }
   ],
   "source": [
    "import time\n",
    "confidence_threshold = 0.50  # Порог уверенности для демонстрации\n",
    "last_confident_bbox = None  # Для хранения последнего уверенного bounding box\n",
    "\n",
    "train_losses, val_losses, train_ious, val_ious = [], [], [], []\n",
    "\n",
    "num_epochs = 12\n",
    "image_width, image_height = 224, 224  # Примерные размеры изображения, измените на ваши\n",
    "\n",
    "for epoch in range(num_epochs):\n",
    "    model.train()\n",
    "    train_mse, train_iou_accum = 0, 0\n",
    "    print(f'Epoch: {epoch}')\n",
    "    \n",
    "    #epoch_start = time.time()\n",
    "    #previous_loop_end_time = time.time()\n",
    "    for batch_idx, (images, targets) in enumerate(train_loader):\n",
    "        #for_line_time = time.time() - previous_loop_end_time\n",
    "        #load_time_start = time.time()\n",
    "        \n",
    "        if torch.cuda.is_available():\n",
    "            images, targets = images.cuda(), targets.cuda()\n",
    "        \n",
    "        #load_time = time.time() - load_time_start\n",
    "        \n",
    "        #process_start = time.time()\n",
    "        optimizer.zero_grad()\n",
    "        outputs = model(images)\n",
    "        loss = criterion(outputs, targets)\n",
    "        train_mse += loss.item()\n",
    "        \n",
    "        #backward_start = time.time()\n",
    "        loss.backward()\n",
    "        optimizer.step()\n",
    "        # backward_time = time.time() - backward_start\n",
    "        \n",
    "        #detach_start = time.time()\n",
    "        outputs = outputs.detach().cpu()\n",
    "        targets = targets.detach().cpu()\n",
    "        #detach_time = time.time() - detach_start\n",
    "        \n",
    "        #iou_start = time.time()\n",
    "        predicted_corners = convert_yolo_to_corners(outputs, image_width, image_height)\n",
    "        target_corners = convert_yolo_to_corners(targets, image_width, image_height)\n",
    "        iou_scores = box_iou(predicted_corners, target_corners)\n",
    "        train_iou_accum += iou_scores.diag().mean().item()\n",
    "        #iou_time = time.time() - iou_start\n",
    "        \n",
    "        #total_time = time.time() - process_start\n",
    "        #print(f'Batch {batch_idx} processed in {total_time:.2f}s (Load: {load_time:.2f}s, Backward: {backward_time:.2f}s, Detach: {detach_time:.2f}s, IoU: {iou_time:.2f}s, For Loop line took: {for_line_time:.2f}s)')\n",
    "        \n",
    "        #previous_loop_end_time = time.time()\n",
    "    \n",
    "    #epoch_time = time.time() - epoch_start\n",
    "    #print(f'Epoch {epoch} completed in {epoch_time:.2f}s')\n",
    "\n",
    "    average_train_mse = train_mse / len(train_loader)\n",
    "    average_train_iou = train_iou_accum / len(train_loader)\n",
    "    train_losses.append(average_train_mse)\n",
    "    train_ious.append(average_train_iou)\n",
    "\n",
    "    model.eval()\n",
    "    val_mse, val_iou_accum = 0, 0\n",
    "    with torch.no_grad():\n",
    "        for images, targets in test_loader:\n",
    "            if torch.cuda.is_available():\n",
    "                images, targets = images.cuda(), targets.cuda()\n",
    "\n",
    "            outputs = model(images)\n",
    "            # Преобразуем выводы модели в удобный формат (предполагается реализация функции)\n",
    "            # Эта часть кода должна быть адаптирована под вашу модель и ее вывод\n",
    "            confidences, bboxes = get_confidence_and_bbox(outputs)\n",
    "\n",
    "            for i, confidence in enumerate(confidences):\n",
    "                if confidence < confidence_threshold and last_confident_bbox is not None:\n",
    "                    # Если уверенность ниже порога и есть сохраненный bbox, используем его\n",
    "                    bboxes[i] = last_confident_bbox\n",
    "                else:\n",
    "                    # Иначе обновляем последний надежный bbox\n",
    "                    last_confident_bbox = bboxes[i]\n",
    "\n",
    "            # Теперь bboxes содержит текущие или последние надежные предсказания\n",
    "            # Продолжаем с расчетом потерь и IoU используя обновленные bboxes\n",
    "            loss = criterion(outputs, targets) # было bboxes, стало outputs\n",
    "            val_mse += loss.item()\n",
    "\n",
    "            # Предполагается, что для IoU требуются координаты углов, здесь используем обновленные bboxes\n",
    "            predicted_corners = convert_yolo_to_corners(bboxes, image_width, image_height)\n",
    "            target_corners = convert_yolo_to_corners(targets, image_width, image_height)\n",
    "            iou_scores = box_iou(predicted_corners, target_corners)\n",
    "            val_iou_accum += iou_scores.diag().mean().item()\n",
    "\n",
    "    average_val_loss = val_mse / len(test_loader)\n",
    "    average_val_iou = val_iou_accum / len(test_loader)\n",
    "    val_losses.append(average_val_loss)\n",
    "    val_ious.append(average_val_iou)\n",
    "\n",
    "    print(f\"Epoch {epoch + 1}, Train Loss: {average_train_mse}, Train IoU: {average_train_iou}, Val Loss: {average_val_loss}, Val IoU: {average_val_iou}\")\n",
    "\n",
    "# Визуализация потерь и IoU\n",
    "epochs = range(1, num_epochs + 1)\n",
    "plt.figure(figsize=(12, 6))\n",
    "\n",
    "plt.subplot(1, 2, 1)\n",
    "plt.plot(epochs, train_losses, label='Training Loss')\n",
    "plt.plot(epochs, val_losses, label='Validation Loss')\n",
    "plt.title('Training and Validation Loss')\n",
    "plt.xlabel('Epoch')\n",
    "plt.ylabel('Loss')\n",
    "plt.legend()\n",
    "\n",
    "plt.subplot(1, 2, 2)\n",
    "plt.plot(epochs, train_ious, label='Training IoU')\n",
    "plt.plot(epochs, val_ious, label='Validation IoU')\n",
    "plt.title('Training and Validation IoU')\n",
    "plt.xlabel('Epoch')\n",
    "plt.ylabel('IoU')\n",
    "plt.legend()\n",
    "\n",
    "plt.tight_layout()\n",
    "plt.show()"
   ]
  },
  {
   "cell_type": "code",
   "execution_count": null,
   "id": "7d402328",
   "metadata": {
    "papermill": {
     "duration": 0.006744,
     "end_time": "2024-04-17T19:18:22.311071",
     "exception": false,
     "start_time": "2024-04-17T19:18:22.304327",
     "status": "completed"
    },
    "tags": []
   },
   "outputs": [],
   "source": []
  },
  {
   "cell_type": "code",
   "execution_count": null,
   "id": "3e0e5dc8",
   "metadata": {
    "papermill": {
     "duration": 0.006632,
     "end_time": "2024-04-17T19:18:22.324587",
     "exception": false,
     "start_time": "2024-04-17T19:18:22.317955",
     "status": "completed"
    },
    "tags": []
   },
   "outputs": [],
   "source": []
  },
  {
   "cell_type": "code",
   "execution_count": null,
   "id": "5ca4e5fb",
   "metadata": {
    "papermill": {
     "duration": 0.006671,
     "end_time": "2024-04-17T19:18:22.338057",
     "exception": false,
     "start_time": "2024-04-17T19:18:22.331386",
     "status": "completed"
    },
    "tags": []
   },
   "outputs": [],
   "source": []
  }
 ],
 "metadata": {
  "kaggle": {
   "accelerator": "gpu",
   "dataSources": [
    {
     "datasetId": 4766862,
     "sourceId": 8077153,
     "sourceType": "datasetVersion"
    }
   ],
   "isGpuEnabled": true,
   "isInternetEnabled": true,
   "language": "python",
   "sourceType": "notebook"
  },
  "kernelspec": {
   "display_name": "Python 3",
   "language": "python",
   "name": "python3"
  },
  "language_info": {
   "codemirror_mode": {
    "name": "ipython",
    "version": 3
   },
   "file_extension": ".py",
   "mimetype": "text/x-python",
   "name": "python",
   "nbconvert_exporter": "python",
   "pygments_lexer": "ipython3",
   "version": "3.10.13"
  },
  "papermill": {
   "default_parameters": {},
   "duration": 22598.999276,
   "end_time": "2024-04-17T19:18:24.211910",
   "environment_variables": {},
   "exception": null,
   "input_path": "__notebook__.ipynb",
   "output_path": "__notebook__.ipynb",
   "parameters": {},
   "start_time": "2024-04-17T13:01:45.212634",
   "version": "2.5.0"
  }
 },
 "nbformat": 4,
 "nbformat_minor": 5
}
