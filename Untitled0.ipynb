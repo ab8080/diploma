{
 "cells": [
  {
   "cell_type": "code",
   "execution_count": 1,
   "id": "024036b4",
   "metadata": {
    "_cell_guid": "b1076dfc-b9ad-4769-8c92-a6c4dae69d19",
    "_uuid": "8f2839f25d086af736a60e9eeb907d3b93b6e0e5",
    "execution": {
     "iopub.execute_input": "2024-04-10T23:13:18.670763Z",
     "iopub.status.busy": "2024-04-10T23:13:18.670032Z",
     "iopub.status.idle": "2024-04-10T23:13:22.072733Z",
     "shell.execute_reply": "2024-04-10T23:13:22.071956Z"
    },
    "papermill": {
     "duration": 3.412199,
     "end_time": "2024-04-10T23:13:22.075076",
     "exception": false,
     "start_time": "2024-04-10T23:13:18.662877",
     "status": "completed"
    },
    "tags": []
   },
   "outputs": [],
   "source": [
    "import torch\n",
    "from torch import nn\n",
    "from torch.utils.data import Dataset\n",
    "import os\n",
    "from PIL import Image"
   ]
  },
  {
   "cell_type": "code",
   "execution_count": 2,
   "id": "3b850be3",
   "metadata": {
    "execution": {
     "iopub.execute_input": "2024-04-10T23:13:22.087736Z",
     "iopub.status.busy": "2024-04-10T23:13:22.087381Z",
     "iopub.status.idle": "2024-04-10T23:13:22.092779Z",
     "shell.execute_reply": "2024-04-10T23:13:22.091920Z"
    },
    "papermill": {
     "duration": 0.013785,
     "end_time": "2024-04-10T23:13:22.094714",
     "exception": false,
     "start_time": "2024-04-10T23:13:22.080929",
     "status": "completed"
    },
    "tags": []
   },
   "outputs": [],
   "source": [
    "class BoundingBoxLoss(nn.Module):\n",
    "    def __init__(self):\n",
    "        super(BoundingBoxLoss, self).__init__()\n",
    "        self.mse_loss = nn.MSELoss(reduction='sum')\n",
    "\n",
    "    def forward(self, predictions, targets):\n",
    "\n",
    "        # Вычисляем потери только для координат ограничивающих рамок\n",
    "        loss = self.mse_loss(predictions, targets)\n",
    "        return loss"
   ]
  },
  {
   "cell_type": "code",
   "execution_count": 3,
   "id": "9eeaef65",
   "metadata": {
    "execution": {
     "iopub.execute_input": "2024-04-10T23:13:22.106899Z",
     "iopub.status.busy": "2024-04-10T23:13:22.106658Z",
     "iopub.status.idle": "2024-04-10T23:13:22.122444Z",
     "shell.execute_reply": "2024-04-10T23:13:22.121616Z"
    },
    "papermill": {
     "duration": 0.024296,
     "end_time": "2024-04-10T23:13:22.124595",
     "exception": false,
     "start_time": "2024-04-10T23:13:22.100299",
     "status": "completed"
    },
    "tags": []
   },
   "outputs": [],
   "source": [
    "# Определение сверточного слоя с BatchNorm и LeakyReLU\n",
    "class ConvBNLeaky(nn.Module):\n",
    "    def __init__(self, in_channels, out_channels, kernel_size, stride, padding):\n",
    "        super(ConvBNLeaky, self).__init__()\n",
    "        self.conv = nn.Conv2d(in_channels, out_channels, kernel_size, stride, padding, bias=False)\n",
    "        self.bn = nn.BatchNorm2d(out_channels)\n",
    "        self.leaky_relu = nn.LeakyReLU(0.1)\n",
    "\n",
    "    def forward(self, x):\n",
    "        return self.leaky_relu(self.bn(self.conv(x)))\n",
    "\n",
    "# Определение остаточного блока\n",
    "class ResidualBlock(nn.Module):\n",
    "    def __init__(self, channels):\n",
    "        super(ResidualBlock, self).__init__()\n",
    "        self.conv1 = ConvBNLeaky(channels, channels // 2, 1, 1, 0)\n",
    "        self.conv2 = ConvBNLeaky(channels // 2, channels, 3, 1, 1)\n",
    "\n",
    "    def forward(self, x):\n",
    "        return x + self.conv2(self.conv1(x))\n",
    "\n",
    "# Основная архитектура YOLOv3\n",
    "class YOLOv3(nn.Module):\n",
    "    def __init__(self, num_classes):\n",
    "        super(YOLOv3, self).__init__()\n",
    "        self.num_classes = num_classes\n",
    "        self.layer1 = ConvBNLeaky(3, 32, 3, 1, 1)\n",
    "        self.layer2 = ConvBNLeaky(32, 64, 3, 2, 1)\n",
    "        self.residual_block1 = ResidualBlock(64)\n",
    "\n",
    "        # Дополнительные слои\n",
    "        self.layer3 = ConvBNLeaky(64, 128, 3, 2, 1)\n",
    "        self.residual_block2 = ResidualBlock(128)\n",
    "        self.layer4 = ConvBNLeaky(128, 256, 3, 2, 1)\n",
    "        self.residual_block3 = ResidualBlock(256)\n",
    "        self.layer5 = ConvBNLeaky(256, 512, 3, 2, 1)\n",
    "        self.residual_block4 = ResidualBlock(512)\n",
    "        self.layer6 = ConvBNLeaky(512, 1024, 3, 2, 1)\n",
    "        self.residual_block5 = ResidualBlock(1024)\n",
    "\n",
    "        # Слои обнаружения\n",
    "        self.detection1 = nn.Conv2d(1024, 4 * num_classes, 1)\n",
    "        self.global_avg_pool = nn.AdaptiveAvgPool2d((1, 1))\n",
    "        self.final_conv = nn.Conv2d(1024, 4, 1)\n",
    "\n",
    "    def forward(self, x):\n",
    "        x = self.layer1(x)\n",
    "        x = self.layer2(x)\n",
    "        x = self.residual_block1(x)\n",
    "        x = self.layer3(x)\n",
    "        x = self.residual_block2(x)\n",
    "        x = self.layer4(x)\n",
    "        x = self.residual_block3(x)\n",
    "        x = self.layer5(x)\n",
    "        x = self.residual_block4(x)\n",
    "        x = self.layer6(x)\n",
    "        x = self.residual_block5(x)\n",
    "\n",
    "        x = self.global_avg_pool(x)  # Применение глобального среднего пулинга\n",
    "        detection = self.final_conv(x)  # Применение конечного сверточного слоя\n",
    "        detection = detection.view(x.size(0), -1)  # Изменение формы тензора\n",
    "        return detection"
   ]
  },
  {
   "cell_type": "code",
   "execution_count": 4,
   "id": "311dd2fb",
   "metadata": {
    "execution": {
     "iopub.execute_input": "2024-04-10T23:13:22.137520Z",
     "iopub.status.busy": "2024-04-10T23:13:22.136766Z",
     "iopub.status.idle": "2024-04-10T23:13:22.146485Z",
     "shell.execute_reply": "2024-04-10T23:13:22.145645Z"
    },
    "papermill": {
     "duration": 0.017803,
     "end_time": "2024-04-10T23:13:22.148266",
     "exception": false,
     "start_time": "2024-04-10T23:13:22.130463",
     "status": "completed"
    },
    "tags": []
   },
   "outputs": [],
   "source": [
    "class YourDataset(Dataset):\n",
    "    def __init__(self, img_dir, ann_dir, transform=None):\n",
    "        self.img_dir = img_dir\n",
    "        self.ann_dir = ann_dir\n",
    "        self.transform = transform\n",
    "\n",
    "        # Получение списка имен файлов изображений\n",
    "        self.img_names = [img_name for img_name in os.listdir(img_dir) if img_name.endswith('.jpg')]\n",
    "\n",
    "    def __len__(self):\n",
    "        return len(self.img_names)\n",
    "\n",
    "    def __getitem__(self, idx):\n",
    "        img_name = self.img_names[idx]\n",
    "        img_path = os.path.join(self.img_dir, img_name)\n",
    "        ann_path = os.path.join(self.ann_dir, img_name.replace('.jpg', '.txt'))\n",
    "\n",
    "        # Загрузка изображения\n",
    "        image = Image.open(img_path).convert('RGB')\n",
    "\n",
    "        # Загрузка аннотаций\n",
    "        annotations = self.load_annotations(ann_path)\n",
    "\n",
    "        if self.transform:\n",
    "            image = self.transform(image)\n",
    "\n",
    "        return image, annotations\n",
    "\n",
    "    @staticmethod\n",
    "    def load_annotations(ann_path):\n",
    "        annotations = []\n",
    "        with open(ann_path, 'r') as file:\n",
    "            for line in file:\n",
    "                _, x_center, y_center, width, height = map(float, line.split())\n",
    "                annotations.append([x_center, y_center, width, height])\n",
    "        return torch.tensor(annotations).squeeze() # оно по дефолту делает тензор размера [1, 4] а надо [4] потому что у кажного объекта ровно 1 аннотация"
   ]
  },
  {
   "cell_type": "code",
   "execution_count": 5,
   "id": "c0cfe6e4",
   "metadata": {
    "execution": {
     "iopub.execute_input": "2024-04-10T23:13:22.160482Z",
     "iopub.status.busy": "2024-04-10T23:13:22.160210Z",
     "iopub.status.idle": "2024-04-10T23:13:24.749518Z",
     "shell.execute_reply": "2024-04-10T23:13:24.748533Z"
    },
    "papermill": {
     "duration": 2.598048,
     "end_time": "2024-04-10T23:13:24.751924",
     "exception": false,
     "start_time": "2024-04-10T23:13:22.153876",
     "status": "completed"
    },
    "tags": []
   },
   "outputs": [],
   "source": [
    "from torchvision import transforms\n",
    "from torch.utils.data import DataLoader\n",
    "import torch.nn.functional as F"
   ]
  },
  {
   "cell_type": "code",
   "execution_count": 6,
   "id": "d26f2de4",
   "metadata": {
    "execution": {
     "iopub.execute_input": "2024-04-10T23:13:24.766472Z",
     "iopub.status.busy": "2024-04-10T23:13:24.764840Z",
     "iopub.status.idle": "2024-04-10T23:13:24.771034Z",
     "shell.execute_reply": "2024-04-10T23:13:24.770174Z"
    },
    "papermill": {
     "duration": 0.014947,
     "end_time": "2024-04-10T23:13:24.772831",
     "exception": false,
     "start_time": "2024-04-10T23:13:24.757884",
     "status": "completed"
    },
    "tags": []
   },
   "outputs": [],
   "source": [
    "# Теперь пути к данным должны указывать на распакованные каталоги\n",
    "img_dir = '/kaggle/input/brikerdataset/dataset0904/train_images'  # Пример пути к изображениям для обучения\n",
    "ann_dir = '/kaggle/input/brikerdataset/dataset0904/train_annotations'  # Пример пути к аннотациям для обучения\n",
    "\n",
    "test_img_dir = '/kaggle/input/brikerdataset/dataset0904/test_images'  # Пример пути к изображениям для тестирования\n",
    "test_ann_dir = '/kaggle/input/brikerdataset/dataset0904/test_annotations'  # Пример пути к аннотациям для тестирования"
   ]
  },
  {
   "cell_type": "code",
   "execution_count": 7,
   "id": "1e3a65f0",
   "metadata": {
    "execution": {
     "iopub.execute_input": "2024-04-10T23:13:24.785224Z",
     "iopub.status.busy": "2024-04-10T23:13:24.784920Z",
     "iopub.status.idle": "2024-04-10T23:13:25.990878Z",
     "shell.execute_reply": "2024-04-10T23:13:25.989889Z"
    },
    "papermill": {
     "duration": 1.214718,
     "end_time": "2024-04-10T23:13:25.993234",
     "exception": false,
     "start_time": "2024-04-10T23:13:24.778516",
     "status": "completed"
    },
    "tags": []
   },
   "outputs": [
    {
     "name": "stdout",
     "output_type": "stream",
     "text": [
      "alb_id_80_000001.jpg\r\n",
      "alb_id_80_000007.jpg\r\n",
      "alb_id_80_000013.jpg\r\n",
      "alb_id_80_000019.jpg\r\n",
      "alb_id_80_000025.jpg\r\n",
      "alb_id_80_000031.jpg\r\n",
      "alb_id_80_000037.jpg\r\n",
      "alb_id_80_000043.jpg\r\n",
      "alb_id_80_000049.jpg\r\n",
      "alb_id_80_000055.jpg\r\n",
      "ls: write error: Broken pipe\r\n"
     ]
    }
   ],
   "source": [
    "!ls '/kaggle/input/brikerdataset/dataset0904/test_images' | head -n 10"
   ]
  },
  {
   "cell_type": "code",
   "execution_count": 8,
   "id": "9488bcd6",
   "metadata": {
    "execution": {
     "iopub.execute_input": "2024-04-10T23:13:26.006623Z",
     "iopub.status.busy": "2024-04-10T23:13:26.006310Z",
     "iopub.status.idle": "2024-04-10T23:13:26.989470Z",
     "shell.execute_reply": "2024-04-10T23:13:26.988487Z"
    },
    "papermill": {
     "duration": 0.992806,
     "end_time": "2024-04-10T23:13:26.992172",
     "exception": false,
     "start_time": "2024-04-10T23:13:25.999366",
     "status": "completed"
    },
    "tags": []
   },
   "outputs": [],
   "source": [
    "# Создание модели\n",
    "model = YOLOv3(num_classes=1)\n",
    "\n",
    "# Проверка доступности CUDA\n",
    "if torch.cuda.is_available():\n",
    "    model = model.cuda()\n",
    "\n",
    "# Создание экземпляра функции потерь и оптимизатора\n",
    "criterion = BoundingBoxLoss()\n",
    "optimizer = torch.optim.Adam(model.parameters(), lr=0.001)\n",
    "\n",
    "transform = transforms.Compose([\n",
    "    transforms.Resize((224, 224)),\n",
    "    transforms.ToTensor()\n",
    "])\n",
    "\n",
    "train_dataset = YourDataset(img_dir, ann_dir, transform=transform)\n",
    "test_dataset = YourDataset(test_img_dir, test_ann_dir, transform=transform)\n",
    "train_loader = DataLoader(train_dataset, batch_size=128, shuffle=True, num_workers=0, pin_memory=True)\n",
    "test_loader = DataLoader(test_dataset, batch_size=128, shuffle=False, num_workers=0, pin_memory=True)"
   ]
  },
  {
   "cell_type": "code",
   "execution_count": 9,
   "id": "1c7e5d8d",
   "metadata": {
    "execution": {
     "iopub.execute_input": "2024-04-10T23:13:27.008407Z",
     "iopub.status.busy": "2024-04-10T23:13:27.007902Z",
     "iopub.status.idle": "2024-04-10T23:13:27.015533Z",
     "shell.execute_reply": "2024-04-10T23:13:27.014499Z"
    },
    "papermill": {
     "duration": 0.018426,
     "end_time": "2024-04-10T23:13:27.017880",
     "exception": false,
     "start_time": "2024-04-10T23:13:26.999454",
     "status": "completed"
    },
    "tags": []
   },
   "outputs": [],
   "source": [
    "def convert_yolo_to_corners(bboxes, img_width, img_height):\n",
    "    # Конвертация из формата YOLO (x_center, y_center, width, height) в формат координат углов (x_min, y_min, x_max, y_max)\n",
    "    converted_bboxes = []\n",
    "    for bbox in bboxes:\n",
    "        x_center, y_center, width, height = bbox\n",
    "        x_min = (x_center - width / 2) * img_width\n",
    "        y_min = (y_center - height / 2) * img_height\n",
    "        x_max = (x_center + width / 2) * img_width\n",
    "        y_max = (y_center + height / 2) * img_height\n",
    "        converted_bboxes.append([x_min, y_min, x_max, y_max])\n",
    "    return torch.tensor(converted_bboxes, dtype=torch.float32)"
   ]
  },
  {
   "cell_type": "code",
   "execution_count": 10,
   "id": "bd135625",
   "metadata": {
    "execution": {
     "iopub.execute_input": "2024-04-10T23:13:27.034222Z",
     "iopub.status.busy": "2024-04-10T23:13:27.033255Z",
     "iopub.status.idle": "2024-04-10T23:13:27.038346Z",
     "shell.execute_reply": "2024-04-10T23:13:27.037558Z"
    },
    "papermill": {
     "duration": 0.01534,
     "end_time": "2024-04-10T23:13:27.040456",
     "exception": false,
     "start_time": "2024-04-10T23:13:27.025116",
     "status": "completed"
    },
    "tags": []
   },
   "outputs": [],
   "source": [
    "import torch\n",
    "from torchvision.ops import box_iou\n",
    "import matplotlib.pyplot as plt"
   ]
  },
  {
   "cell_type": "code",
   "execution_count": 11,
   "id": "efec296a",
   "metadata": {
    "execution": {
     "iopub.execute_input": "2024-04-10T23:13:27.057137Z",
     "iopub.status.busy": "2024-04-10T23:13:27.056805Z",
     "iopub.status.idle": "2024-04-11T10:32:39.860311Z",
     "shell.execute_reply": "2024-04-11T10:32:39.859366Z"
    },
    "papermill": {
     "duration": 40752.813833,
     "end_time": "2024-04-11T10:32:39.862340",
     "exception": false,
     "start_time": "2024-04-10T23:13:27.048507",
     "status": "completed"
    },
    "tags": []
   },
   "outputs": [
    {
     "name": "stdout",
     "output_type": "stream",
     "text": [
      "Epoch: 0\n",
      "Epoch 1, Train Loss: 30.64407785663828, Train IoU: 0.48835622943728096, Val Loss: 5.176992852579463, Val IoU: 0.5270741818980738\n",
      "Epoch: 1\n",
      "Epoch 2, Train Loss: 3.474316626264338, Train IoU: 0.580964088614224, Val Loss: 5.282862045548179, Val IoU: 0.4743648665872487\n",
      "Epoch: 2\n",
      "Epoch 3, Train Loss: 2.8907392007565638, Train IoU: 0.6162468452899776, Val Loss: 4.1197604591196235, Val IoU: 0.5748811025511135\n",
      "Epoch: 3\n",
      "Epoch 4, Train Loss: 2.1565827500750445, Train IoU: 0.6598103188457545, Val Loss: 3.2845439423214304, Val IoU: 0.5810438137162816\n",
      "Epoch: 4\n",
      "Epoch 5, Train Loss: 1.7251419355297646, Train IoU: 0.6924193541557468, Val Loss: 3.8285889002409847, Val IoU: 0.5326004255224358\n",
      "Epoch: 5\n",
      "Epoch 6, Train Loss: 1.4711682789506968, Train IoU: 0.7110526096402553, Val Loss: 3.878064594485543, Val IoU: 0.5256570946763862\n",
      "Epoch: 6\n",
      "Epoch 7, Train Loss: 1.2649217314190335, Train IoU: 0.7231868439250522, Val Loss: 2.375828515399586, Val IoU: 0.6401556459340182\n",
      "Epoch: 7\n",
      "Epoch 8, Train Loss: 1.144500615478259, Train IoU: 0.7334333727931419, Val Loss: 5.1186360310424455, Val IoU: 0.49562637643380597\n",
      "Epoch: 8\n",
      "Epoch 9, Train Loss: 0.9844811743462992, Train IoU: 0.7542750685535676, Val Loss: 3.2541182041168213, Val IoU: 0.6104332838546146\n"
     ]
    },
    {
     "data": {
      "image/png": "[encoded data removed]",
      "text/plain": [
       "<Figure size 1200x600 with 2 Axes>"
      ]
     },
     "metadata": {},
     "output_type": "display_data"
    }
   ],
   "source": [
    "train_losses, val_losses, train_ious, val_ious = [], [], [], []\n",
    "\n",
    "num_epochs = 9\n",
    "image_width, image_height = 224, 224  # Примерные размеры изображения, измените на ваши\n",
    "\n",
    "for epoch in range(num_epochs):\n",
    "    model.train()\n",
    "    train_mse, train_iou_accum = 0, 0\n",
    "    print(f'Epoch: {epoch}')\n",
    "    for batch_idx, (images, targets) in enumerate(train_loader):\n",
    "        if torch.cuda.is_available():\n",
    "            images, targets = images.cuda(), targets.cuda()\n",
    "        optimizer.zero_grad()\n",
    "        outputs = model(images)\n",
    "        loss = criterion(outputs, targets)\n",
    "        train_mse += loss.item()\n",
    "        loss.backward()\n",
    "        optimizer.step()\n",
    "\n",
    "        for target in targets:\n",
    "            target = target.squeeze() # надо чтобы тензор был размера [4] а сейчас он  [1, 4]\n",
    "\n",
    "        outputs = outputs.detach().cpu()\n",
    "        targets = targets.detach().cpu()\n",
    "\n",
    "        # Преобразование формата и расчет IoU для текущего пакета\n",
    "        predicted_corners = convert_yolo_to_corners(outputs, image_width, image_height)\n",
    "        target_corners = convert_yolo_to_corners(targets, image_width, image_height)\n",
    "        iou_scores = box_iou(predicted_corners, target_corners)\n",
    "        train_iou_accum += iou_scores.diag().mean().item()\n",
    "\n",
    "    average_train_mse = train_mse / len(train_loader)\n",
    "    average_train_iou = train_iou_accum / len(train_loader)\n",
    "    train_losses.append(average_train_mse)\n",
    "    train_ious.append(average_train_iou)\n",
    "\n",
    "    model.eval()\n",
    "    val_mse, val_iou_accum = 0, 0\n",
    "    with torch.no_grad():\n",
    "        for images, targets in test_loader:\n",
    "            if torch.cuda.is_available():\n",
    "                images, targets = images.cuda(), targets.cuda()\n",
    "            outputs = model(images)\n",
    "            loss = criterion(outputs, targets)\n",
    "            val_mse += loss.item()\n",
    "\n",
    "            outputs = outputs.detach().cpu()\n",
    "            targets = targets.detach().cpu()\n",
    "            # Преобразование формата и расчет IoU для текущего пакета\n",
    "            predicted_corners = convert_yolo_to_corners(outputs, image_width, image_height)\n",
    "            target_corners = convert_yolo_to_corners(targets, image_width, image_height)\n",
    "            iou_scores = box_iou(predicted_corners, target_corners)\n",
    "            val_iou_accum += iou_scores.diag().mean().item()\n",
    "\n",
    "    average_val_loss = val_mse / len(test_loader)\n",
    "    average_val_iou = val_iou_accum / len(test_loader)\n",
    "    val_losses.append(average_val_loss)\n",
    "    val_ious.append(average_val_iou)\n",
    "\n",
    "    print(f\"Epoch {epoch + 1}, Train Loss: {average_train_mse}, Train IoU: {average_train_iou}, Val Loss: {average_val_loss}, Val IoU: {average_val_iou}\")\n",
    "\n",
    "# Визуализация потерь и IoU\n",
    "epochs = range(1, num_epochs + 1)\n",
    "plt.figure(figsize=(12, 6))\n",
    "\n",
    "plt.subplot(1, 2, 1)\n",
    "plt.plot(epochs, train_losses, label='Training Loss')\n",
    "plt.plot(epochs, val_losses, label='Validation Loss')\n",
    "plt.title('Training and Validation Loss')\n",
    "plt.xlabel('Epoch')\n",
    "plt.ylabel('Loss')\n",
    "plt.legend()\n",
    "\n",
    "plt.subplot(1, 2, 2)\n",
    "plt.plot(epochs, train_ious, label='Training IoU')\n",
    "plt.plot(epochs, val_ious, label='Validation IoU')\n",
    "plt.title('Training and Validation IoU')\n",
    "plt.xlabel('Epoch')\n",
    "plt.ylabel('IoU')\n",
    "plt.legend()\n",
    "\n",
    "plt.tight_layout()\n",
    "plt.show()"
   ]
  },
  {
   "cell_type": "code",
   "execution_count": null,
   "id": "80944fbf",
   "metadata": {
    "papermill": {
     "duration": 0.007766,
     "end_time": "2024-04-11T10:32:39.878173",
     "exception": false,
     "start_time": "2024-04-11T10:32:39.870407",
     "status": "completed"
    },
    "tags": []
   },
   "outputs": [],
   "source": []
  },
  {
   "cell_type": "code",
   "execution_count": null,
   "id": "541bbd2f",
   "metadata": {
    "papermill": {
     "duration": 0.007578,
     "end_time": "2024-04-11T10:32:39.893516",
     "exception": false,
     "start_time": "2024-04-11T10:32:39.885938",
     "status": "completed"
    },
    "tags": []
   },
   "outputs": [],
   "source": []
  },
  {
   "cell_type": "code",
   "execution_count": null,
   "id": "9ec48cfa",
   "metadata": {
    "papermill": {
     "duration": 0.007519,
     "end_time": "2024-04-11T10:32:39.908855",
     "exception": false,
     "start_time": "2024-04-11T10:32:39.901336",
     "status": "completed"
    },
    "tags": []
   },
   "outputs": [],
   "source": []
  },
  {
   "cell_type": "code",
   "execution_count": null,
   "id": "b36a1ed6",
   "metadata": {
    "papermill": {
     "duration": 0.007623,
     "end_time": "2024-04-11T10:32:39.924200",
     "exception": false,
     "start_time": "2024-04-11T10:32:39.916577",
     "status": "completed"
    },
    "tags": []
   },
   "outputs": [],
   "source": []
  },
  {
   "cell_type": "code",
   "execution_count": null,
   "id": "0c967ff7",
   "metadata": {
    "papermill": {
     "duration": 0.007513,
     "end_time": "2024-04-11T10:32:39.939454",
     "exception": false,
     "start_time": "2024-04-11T10:32:39.931941",
     "status": "completed"
    },
    "tags": []
   },
   "outputs": [],
   "source": []
  },
  {
   "cell_type": "code",
   "execution_count": null,
   "id": "de8f09f8",
   "metadata": {
    "papermill": {
     "duration": 0.007492,
     "end_time": "2024-04-11T10:32:39.954784",
     "exception": false,
     "start_time": "2024-04-11T10:32:39.947292",
     "status": "completed"
    },
    "tags": []
   },
   "outputs": [],
   "source": []
  },
  {
   "cell_type": "code",
   "execution_count": null,
   "id": "f2bf0b15",
   "metadata": {
    "papermill": {
     "duration": 0.007634,
     "end_time": "2024-04-11T10:32:39.970140",
     "exception": false,
     "start_time": "2024-04-11T10:32:39.962506",
     "status": "completed"
    },
    "tags": []
   },
   "outputs": [],
   "source": []
  },
  {
   "cell_type": "code",
   "execution_count": null,
   "id": "7906507f",
   "metadata": {
    "papermill": {
     "duration": 0.00751,
     "end_time": "2024-04-11T10:32:39.985314",
     "exception": false,
     "start_time": "2024-04-11T10:32:39.977804",
     "status": "completed"
    },
    "tags": []
   },
   "outputs": [],
   "source": []
  },
  {
   "cell_type": "code",
   "execution_count": null,
   "id": "c2a4ac35",
   "metadata": {
    "papermill": {
     "duration": 0.007455,
     "end_time": "2024-04-11T10:32:40.000615",
     "exception": false,
     "start_time": "2024-04-11T10:32:39.993160",
     "status": "completed"
    },
    "tags": []
   },
   "outputs": [],
   "source": []
  },
  {
   "cell_type": "code",
   "execution_count": null,
   "id": "c543903e",
   "metadata": {
    "papermill": {
     "duration": 0.0075,
     "end_time": "2024-04-11T10:32:40.015843",
     "exception": false,
     "start_time": "2024-04-11T10:32:40.008343",
     "status": "completed"
    },
    "tags": []
   },
   "outputs": [],
   "source": []
  },
  {
   "cell_type": "code",
   "execution_count": null,
   "id": "998177dc",
   "metadata": {
    "papermill": {
     "duration": 0.00761,
     "end_time": "2024-04-11T10:32:40.031181",
     "exception": false,
     "start_time": "2024-04-11T10:32:40.023571",
     "status": "completed"
    },
    "tags": []
   },
   "outputs": [],
   "source": []
  },
  {
   "cell_type": "code",
   "execution_count": null,
   "id": "1871a4c7",
   "metadata": {
    "papermill": {
     "duration": 0.007528,
     "end_time": "2024-04-11T10:32:40.046425",
     "exception": false,
     "start_time": "2024-04-11T10:32:40.038897",
     "status": "completed"
    },
    "tags": []
   },
   "outputs": [],
   "source": []
  },
  {
   "cell_type": "code",
   "execution_count": null,
   "id": "a2968eab",
   "metadata": {
    "papermill": {
     "duration": 0.00745,
     "end_time": "2024-04-11T10:32:40.061609",
     "exception": false,
     "start_time": "2024-04-11T10:32:40.054159",
     "status": "completed"
    },
    "tags": []
   },
   "outputs": [],
   "source": []
  }
 ],
 "metadata": {
  "kaggle": {
   "accelerator": "gpu",
   "dataSources": [
    {
     "datasetId": 4766862,
     "sourceId": 8077153,
     "sourceType": "datasetVersion"
    }
   ],
   "isGpuEnabled": true,
   "isInternetEnabled": true,
   "language": "python",
   "sourceType": "notebook"
  },
  "kernelspec": {
   "display_name": "Python 3",
   "language": "python",
   "name": "python3"
  },
  "language_info": {
   "codemirror_mode": {
    "name": "ipython",
    "version": 3
   },
   "file_extension": ".py",
   "mimetype": "text/x-python",
   "name": "python",
   "nbconvert_exporter": "python",
   "pygments_lexer": "ipython3",
   "version": "3.10.13"
  },
  "papermill": {
   "default_parameters": {},
   "duration": 40766.419566,
   "end_time": "2024-04-11T10:32:42.428480",
   "environment_variables": {},
   "exception": null,
   "input_path": "__notebook__.ipynb",
   "output_path": "__notebook__.ipynb",
   "parameters": {},
   "start_time": "2024-04-10T23:13:16.008914",
   "version": "2.5.0"
  }
 },
 "nbformat": 4,
 "nbformat_minor": 5
}
